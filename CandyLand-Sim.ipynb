{
 "cells": [
  {
   "cell_type": "code",
   "execution_count": 1,
   "metadata": {},
   "outputs": [],
   "source": [
    "import random\n",
    "\n",
    "%matplotlib inline\n",
    "import matplotlib.pyplot as plt\n",
    "plt.style.use('ggplot')"
   ]
  },
  {
   "cell_type": "code",
   "execution_count": 2,
   "metadata": {
    "collapsed": true
   },
   "outputs": [],
   "source": [
    "#assign colors\n",
    "def getColor(count):\n",
    "    if count % 6 == 1:\n",
    "        color = \"red\"\n",
    "    elif count % 6 == 2:\n",
    "        color = \"purple\"\n",
    "    elif count % 6 == 3:\n",
    "        color = \"yellow\"\n",
    "    elif count % 6 == 4:\n",
    "        color = \"blue\"\n",
    "    elif count % 6 == 5:\n",
    "        color = \"orange\"\n",
    "    else:\n",
    "         color = \"green\"\n",
    "\n",
    "    return color"
   ]
  },
  {
   "cell_type": "code",
   "execution_count": 3,
   "metadata": {
    "collapsed": true
   },
   "outputs": [],
   "source": [
    "#assign colors, special places\n",
    "def makeBoard():\n",
    "\n",
    "    spaces = []\n",
    "\n",
    "    count = 0\n",
    "    for index in range(1, 141):\n",
    "        if index == (9 or 18 or 43 or 75 or 96 or 104):\n",
    "            spaces.append((index, \"special\"))\n",
    "        else:\n",
    "            count += 1\n",
    "            color = getColor(count)\n",
    "            spaces.append((index, color))\n",
    "\n",
    "    return spaces"
   ]
  },
  {
   "cell_type": "code",
   "execution_count": 4,
   "metadata": {
    "collapsed": true
   },
   "outputs": [],
   "source": [
    "#simulate candyland distribution of cards\n",
    "def getMove():\n",
    "\n",
    "    chance = random.randint(0,100)\n",
    "\n",
    "    #double move cards\n",
    "    if chance < 6:\n",
    "        move = (\"red\", 2)\n",
    "    elif chance < 12 and chance >= 6:\n",
    "        move = (\"purple\", 2)\n",
    "    elif chance < 18 and chance >= 12:\n",
    "        move = (\"yellow\", 2)\n",
    "    elif chance < 24 and chance >= 18:\n",
    "        move = (\"blue\", 2)\n",
    "    elif chance < 30 and chance >= 24:\n",
    "        move = (\"orange\", 2)\n",
    "    elif chance < 36 and chance >= 30:\n",
    "        move = (\"green\", 2)\n",
    "    #single move cards\n",
    "    elif chance < 46 and chance >= 36:\n",
    "        move = (\"red\", 1)\n",
    "    elif chance < 56 and chance >= 46:\n",
    "        move = (\"purple\", 1)\n",
    "    elif chance < 66 and chance >= 56:\n",
    "        move = (\"yellow\", 1)\n",
    "    elif chance < 76 and chance >= 66:\n",
    "        move = (\"blue\", 1)\n",
    "    elif chance < 86 and chance >= 76:\n",
    "        move = (\"orange\", 1)\n",
    "    elif chance < 96 and chance >= 86:\n",
    "        move = (\"green\", 1)\n",
    "    #special cards\n",
    "    else:\n",
    "        if chance == 96:\n",
    "            move = (\"Lord Licorice\", 1)\n",
    "        elif chance == 97:\n",
    "            move = (\"Candy Cane\", 1)\n",
    "        elif chance == 98:\n",
    "            move = (\"Gumdrop Mountain\", 1)\n",
    "        elif chance == 99:\n",
    "            move = (\"Grandma Nut\", 1)\n",
    "        elif chance == 100:\n",
    "            move = (\"Princess Lolly\", 1)\n",
    "        else:\n",
    "            move = (\"Queen Frostine\", 1)\n",
    "\n",
    "    return move"
   ]
  },
  {
   "cell_type": "code",
   "execution_count": 5,
   "metadata": {
    "collapsed": true
   },
   "outputs": [],
   "source": [
    "def playGame():\n",
    "\n",
    "    board = makeBoard()\n",
    "    current = 0\n",
    "    moveList = []\n",
    "\n",
    "    #play until pass end point\n",
    "    while current < 134:\n",
    "\n",
    "        (move, number) = getMove()\n",
    "\n",
    "        #factor in cards that advance two spaces\n",
    "        if number == 2:\n",
    "            add = 7\n",
    "        else:\n",
    "            add = 1\n",
    "\n",
    "        if move == \"Lord Licorice\":\n",
    "            current = 9\n",
    "        elif move == \"Candy Cane\":\n",
    "            current = 18\n",
    "        elif move == \"Gumdrop Mountain\":\n",
    "            current = 43\n",
    "        elif move == \"Grandma Nut\":\n",
    "            current = 75\n",
    "        elif move == \"Princess Lolly\":\n",
    "            current = 96\n",
    "        elif move == \"Queen Frostine\":\n",
    "            current = 104\n",
    "        else:\n",
    "\n",
    "            for spaces in range(current + add, 140):\n",
    "\n",
    "                if move == board[spaces][1]:\n",
    "                    current = [spaces][0]\n",
    "                    break\n",
    "                else:\n",
    "                    continue\n",
    "\n",
    "        moveList.append(move)\n",
    "\n",
    "    return len(moveList)"
   ]
  },
  {
   "cell_type": "code",
   "execution_count": 6,
   "metadata": {},
   "outputs": [
    {
     "data": {
      "image/png": "[encoded data removed]",
      "text/plain": [
       "<matplotlib.figure.Figure at 0x107190dd8>"
      ]
     },
     "metadata": {},
     "output_type": "display_data"
    }
   ],
   "source": [
    "def runSimulation():\n",
    "    simulation = []\n",
    "\n",
    "    for trial in range(10000):\n",
    "        count = playGame()\n",
    "        simulation.append(count)\n",
    "\n",
    "    plt.hist(simulation, bins = range(100), normed = True)\n",
    "    plt.xlabel(\"Turns to Win\")\n",
    "    plt.ylabel('Fraction of Games')\n",
    "    plt.title('Lengths of Candyland Games')\n",
    "    \n",
    "runSimulation()"
   ]
  }
 ],
 "metadata": {
  "kernelspec": {
   "display_name": "Python 3",
   "language": "python",
   "name": "python3"
  },
  "language_info": {
   "codemirror_mode": {
    "name": "ipython",
    "version": 3
   },
   "file_extension": ".py",
   "mimetype": "text/x-python",
   "name": "python",
   "nbconvert_exporter": "python",
   "pygments_lexer": "ipython3",
   "version": "3.6.1"
  }
 },
 "nbformat": 4,
 "nbformat_minor": 2
}
